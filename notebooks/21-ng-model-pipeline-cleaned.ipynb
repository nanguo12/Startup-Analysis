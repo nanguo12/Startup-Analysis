{
 "cells": [
  {
   "cell_type": "code",
   "execution_count": 6,
   "id": "d16ab63a-bdda-49f4-aa87-c543e151cc2e",
   "metadata": {},
   "outputs": [
    {
     "name": "stdout",
     "output_type": "stream",
     "text": [
      "The autoreload extension is already loaded. To reload it, use:\n",
      "  %reload_ext autoreload\n"
     ]
    }
   ],
   "source": [
    "%load_ext autoreload\n",
    "%autoreload 2"
   ]
  },
  {
   "cell_type": "code",
   "execution_count": 9,
   "id": "f1a331f2-3698-4a47-8026-91549b4ee9b1",
   "metadata": {},
   "outputs": [],
   "source": [
    "# Data Process\n",
    "import pandas as pd\n",
    "import numpy as np \n",
    "\n",
    "# Data visulization\n",
    "import plotly.express as px\n",
    "import plotly\n",
    "import matplotlib.pyplot as plt\n",
    "\n",
    "# IO\n",
    "from pathlib import Path\n",
    "import pickle\n",
    "\n",
    "# Feature & Model\n",
    "from sklearn.preprocessing import OneHotEncoder\n",
    "from sklearn.linear_model import LinearRegression\n",
    "\n",
    "# custom function \n",
    "from src.data import data_preprocess\n",
    "plt.style.use('ggplot')\n",
    "pd.set_option('display.max_columns', 500)"
   ]
  },
  {
   "cell_type": "code",
   "execution_count": 10,
   "id": "860dfdf8-ebb4-453e-8a90-fdab95251cb8",
   "metadata": {},
   "outputs": [],
   "source": [
    "# read csv data file\n",
    "home = str(Path.home())\n",
    "data = pd.read_csv(home + '/Startup-Analysis/data/raw/startup_data.csv')\n",
    "\n",
    "# only include necessary columns \n",
    "drop_col = ['Unnamed: 0', 'Unnamed: 6', 'state_code.1', 'object_id']\n",
    "data = data_preprocess.drop_unnecessary_col(data, drop_col)\n",
    "\n",
    "# convert negative value to 0 \n",
    "feat_need_clean = ['age_first_funding_year', \n",
    "                  'age_last_funding_year', \n",
    "                  'age_first_milestone_year', \n",
    "                  'age_last_milestone_year']\n",
    "data = data_preprocess.neg_to_zero(data, feat_need_clean)\n",
    "\n",
    "# impute missing data using regression\n",
    "missing_val = ['age_first_milestone_year', 'age_last_milestone_year']\n",
    "independent_col = ['age_last_funding_year']\n",
    "data = data_preprocess.impute_using_reg(data, missing_val, independent_col)\n",
    "\n",
    "# derive decile for features \n",
    "col_to_process = ['latitude', 'longitude']\n",
    "data = data_preprocess.derive_decile(data, col_to_process)\n",
    "\n",
    "# load model artifact \n",
    "artifact_name = \"xgb_tuned_model.pkl\"\n",
    "xgb_model_loaded = pickle.load(open(home  + '/Startup-Analysis/models/model_artifact/' + artifact_name, \"rb\"))\n",
    "\n",
    "# load feature list\n",
    "feat_file_name = 'feature.pkl'\n",
    "feat = pickle.load(open(home  + '/Startup-Analysis/models/feat/' + feat_file_name, \"rb\"))\n",
    "\n",
    "# score the input dataset \n",
    "X = data[feat]\n",
    "y_pred = xgb_model_loaded.predict_proba(X)"
   ]
  }
 ],
 "metadata": {
  "kernelspec": {
   "display_name": "startup",
   "language": "python",
   "name": "startup"
  },
  "language_info": {
   "codemirror_mode": {
    "name": "ipython",
    "version": 3
   },
   "file_extension": ".py",
   "mimetype": "text/x-python",
   "name": "python",
   "nbconvert_exporter": "python",
   "pygments_lexer": "ipython3",
   "version": "3.10.11"
  }
 },
 "nbformat": 4,
 "nbformat_minor": 5
}
