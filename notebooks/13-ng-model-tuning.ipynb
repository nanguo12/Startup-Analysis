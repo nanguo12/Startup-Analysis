{
 "cells": [
  {
   "cell_type": "code",
   "execution_count": 1,
   "id": "ce356b6f-b72f-46e8-b55f-dd3e8825d2f0",
   "metadata": {},
   "outputs": [],
   "source": [
    "# Data Process\n",
    "import pandas as pd\n",
    "import numpy as np \n",
    "\n",
    "# Data visulization\n",
    "import plotly.express as px\n",
    "import plotly\n",
    "import matplotlib.pyplot as plt\n",
    "\n",
    "# IO\n",
    "from pathlib import Path\n",
    "\n",
    "# Feature & Model\n",
    "from sklearn.preprocessing import OneHotEncoder\n",
    "from xgboost import XGBClassifier\n",
    "from sklearn.model_selection import train_test_split\n",
    "from sklearn.metrics import accuracy_score, roc_auc_score, average_precision_score, classification_report\n",
    "from sklearn.model_selection import GridSearchCV\n",
    "from hyperopt import STATUS_OK, Trials, fmin, hp, tpe\n",
    "import pickle\n",
    "\n",
    "plt.style.use('ggplot')\n",
    "pd.set_option('display.max_columns', 500)"
   ]
  },
  {
   "cell_type": "code",
   "execution_count": 2,
   "id": "b6ea5e31-fefc-4435-a088-6bc696002f81",
   "metadata": {
    "tags": []
   },
   "outputs": [],
   "source": [
    "# read csv data file\n",
    "home = str(Path.home())\n",
    "data = pd.read_csv(home + '/Startup-Analysis/data/processed/startup_data_cleaned.csv')\n",
    "\n",
    "feat = ['age_first_funding_year', 'age_last_funding_year', 'age_first_milestone_year_impute', 'age_last_milestone_year_impute', 'relationships', \n",
    "       'funding_rounds', 'funding_total_usd', 'milestones', 'is_CA', 'is_NY', 'is_MA', 'is_TX', 'is_otherstate', \n",
    "       'is_web', 'is_mobile', 'is_enterprise', 'is_advertising', 'is_gamesvideo', 'is_ecommerce', 'is_biotech', 'is_consulting',\n",
    "       'is_othercategory', 'has_VC', 'has_angel', 'has_roundA', 'has_roundB', 'has_roundC',\n",
    "       'has_roundD', 'avg_participants', 'is_top500',  'latitude_decile', 'longitude_decile']\n",
    "label = ['labels']\n",
    "\n",
    "X = data[feat]\n",
    "y = data[label]\n",
    "\n",
    "\n",
    "# split data into train and test sets\n",
    "seed = 7\n",
    "test_size = 0.33\n",
    "X_train, X_test, y_train, y_test = train_test_split(X, y, test_size=test_size, random_state=seed)"
   ]
  },
  {
   "cell_type": "markdown",
   "id": "abd403c5-6107-4ae8-8e99-58ee93128f98",
   "metadata": {},
   "source": [
    "## Parameter tuning using grid search"
   ]
  },
  {
   "cell_type": "code",
   "execution_count": null,
   "id": "fccd9c2d-46a8-4a9a-9251-2967dd09bffc",
   "metadata": {},
   "outputs": [
    {
     "name": "stdout",
     "output_type": "stream",
     "text": [
      "Fitting 5 folds for each of 78125 candidates, totalling 390625 fits\n"
     ]
    }
   ],
   "source": [
    "parameters={'max_depth': np.random.choice(range(3,20), 5, replace=False),\n",
    "        'gamma': np.random.uniform(1,9,5),\n",
    "        'reg_alpha' : np.random.choice(range(1,20), 5, replace=False),\n",
    "        'reg_lambda' : np.random.uniform(1,9,5),\n",
    "        'colsample_bytree' : np.random.uniform(0,1,5),\n",
    "        'min_child_weight' : np.random.uniform(0,9,5),\n",
    "        'learning_rate': np.random.uniform(0,1,5)\n",
    "    }\n",
    "\n",
    "xgb_clf=XGBClassifier(eval_metric='logloss', \n",
    "                  objective = 'binary:logistic', \n",
    "                  grow_policy = 'lossguide', \n",
    "                  n_estimators = 100,\n",
    "                  random_state=seed)\n",
    "\n",
    "cv_clf = GridSearchCV(xgb_clf, parameters, scoring = 'average_precision', n_jobs = -1, cv = 5, refit = True, verbose=1)\n",
    "cv_clf.fit( X_train, y_train)"
   ]
  },
  {
   "cell_type": "code",
   "execution_count": null,
   "id": "3e454bbc-3361-43f8-9f2d-772147fd65af",
   "metadata": {},
   "outputs": [],
   "source": [
    "df_cv_result = pd.DataFrame(cv_clf.cv_results_)\n",
    "df_cv_result.loc[df_cv_result['mean_test_score'].idxmax()]['params']"
   ]
  },
  {
   "cell_type": "code",
   "execution_count": null,
   "id": "7f3b256e-d417-4235-8af3-a4335ba8cbe3",
   "metadata": {},
   "outputs": [],
   "source": [
    "model = cv_clf.best_estimator_"
   ]
  },
  {
   "cell_type": "code",
   "execution_count": null,
   "id": "88368d64-1959-4c5d-b259-0c88a959581c",
   "metadata": {},
   "outputs": [],
   "source": [
    "# make predictions for test data\n",
    "y_pred = model.predict_proba(X_test)\n"
   ]
  },
  {
   "cell_type": "code",
   "execution_count": null,
   "id": "474ed1b0-15f3-4464-9841-0d6755e5c577",
   "metadata": {},
   "outputs": [],
   "source": [
    "# evaluate predictions\n",
    "pr_auc = average_precision_score(y_test, y_pred[:,1])\n",
    "print(\"PR_AUC: %.2f%%\" % (pr_auc * 100.0))"
   ]
  },
  {
   "cell_type": "markdown",
   "id": "e4cb5d85-e688-47b3-9b51-2b40a48b4823",
   "metadata": {},
   "source": [
    "The previous base model achieve PR_AUC of 82.27, with the parameter tuning, it increase to 82.96"
   ]
  },
  {
   "cell_type": "markdown",
   "id": "692ed14e-7ca8-4857-b031-39c70ff86ccd",
   "metadata": {},
   "source": [
    "# Save the model artifact"
   ]
  },
  {
   "cell_type": "code",
   "execution_count": null,
   "id": "d22847ae-6e35-431b-bd52-6f04139d9414",
   "metadata": {},
   "outputs": [],
   "source": [
    "artifact_name = \"xgb_tuned_model.pkl\"\n",
    "\n",
    "# save\n",
    "pickle.dump(model, open(home  + '/Startup-Analysis/models/model_artifact/' + artifact_name, \"wb\"))"
   ]
  },
  {
   "cell_type": "markdown",
   "id": "fbefd848-1a8e-4be1-ac16-48a96445497e",
   "metadata": {},
   "source": [
    "# Save the feature list"
   ]
  },
  {
   "cell_type": "code",
   "execution_count": null,
   "id": "37e74943-9800-4dd9-9e0b-369e8eba8184",
   "metadata": {},
   "outputs": [],
   "source": [
    "feat_file_name = 'feature.pkl'\n",
    "pickle.dump(feat, open(home  + '/Startup-Analysis/models/feat/' + feat_file_name, \"wb\"))"
   ]
  }
 ],
 "metadata": {
  "kernelspec": {
   "display_name": "startup",
   "language": "python",
   "name": "startup"
  },
  "language_info": {
   "codemirror_mode": {
    "name": "ipython",
    "version": 3
   },
   "file_extension": ".py",
   "mimetype": "text/x-python",
   "name": "python",
   "nbconvert_exporter": "python",
   "pygments_lexer": "ipython3",
   "version": "3.10.11"
  }
 },
 "nbformat": 4,
 "nbformat_minor": 5
}
