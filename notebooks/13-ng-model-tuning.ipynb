{
 "cells": [
  {
   "cell_type": "code",
   "execution_count": 1,
   "id": "ce356b6f-b72f-46e8-b55f-dd3e8825d2f0",
   "metadata": {},
   "outputs": [],
   "source": [
    "# Data Process\n",
    "import pandas as pd\n",
    "import numpy as np \n",
    "\n",
    "# Data visulization\n",
    "import plotly.express as px\n",
    "import plotly\n",
    "import matplotlib.pyplot as plt\n",
    "\n",
    "# IO\n",
    "from pathlib import Path\n",
    "\n",
    "# Feature & Model\n",
    "from sklearn.preprocessing import OneHotEncoder\n",
    "from xgboost import XGBClassifier\n",
    "from sklearn.model_selection import train_test_split\n",
    "from sklearn.metrics import accuracy_score, roc_auc_score, average_precision_score, classification_report\n",
    "from sklearn.model_selection import GridSearchCV\n",
    "from hyperopt import STATUS_OK, Trials, fmin, hp, tpe\n",
    "import pickle\n",
    "\n",
    "plt.style.use('ggplot')\n",
    "pd.set_option('display.max_columns', 500)"
   ]
  },
  {
   "cell_type": "code",
   "execution_count": 2,
   "id": "b6ea5e31-fefc-4435-a088-6bc696002f81",
   "metadata": {
    "tags": []
   },
   "outputs": [],
   "source": [
    "# read csv data file\n",
    "home = str(Path.home())\n",
    "data = pd.read_csv(home + '/Startup-Analysis/data/processed/startup_data_cleaned.csv')\n",
    "\n",
    "feat = ['age_first_funding_year', 'age_last_funding_year', 'age_first_milestone_year_impute', 'age_last_milestone_year_impute', 'relationships', \n",
    "       'funding_rounds', 'funding_total_usd', 'milestones', 'is_CA', 'is_NY', 'is_MA', 'is_TX', 'is_otherstate', \n",
    "       'is_web', 'is_mobile', 'is_enterprise', 'is_advertising', 'is_gamesvideo', 'is_ecommerce', 'is_biotech', 'is_consulting',\n",
    "       'is_othercategory', 'has_VC', 'has_angel', 'has_roundA', 'has_roundB', 'has_roundC',\n",
    "       'has_roundD', 'avg_participants', 'is_top500',  'latitude_decile', 'longitude_decile']\n",
    "label = ['labels']\n",
    "\n",
    "X = data[feat]\n",
    "y = data[label]\n",
    "\n",
    "\n",
    "# split data into train and test sets\n",
    "seed = 7\n",
    "test_size = 0.33\n",
    "X_train, X_test, y_train, y_test = train_test_split(X, y, test_size=test_size, random_state=seed)"
   ]
  },
  {
   "cell_type": "markdown",
   "id": "abd403c5-6107-4ae8-8e99-58ee93128f98",
   "metadata": {},
   "source": [
    "## Parameter tuning using grid search"
   ]
  },
  {
   "cell_type": "code",
   "execution_count": 3,
   "id": "fccd9c2d-46a8-4a9a-9251-2967dd09bffc",
   "metadata": {},
   "outputs": [
    {
     "name": "stdout",
     "output_type": "stream",
     "text": [
      "Fitting 5 folds for each of 78125 candidates, totalling 390625 fits\n"
     ]
    },
    {
     "data": {
      "text/html": [
       "<style>#sk-container-id-1 {color: black;background-color: white;}#sk-container-id-1 pre{padding: 0;}#sk-container-id-1 div.sk-toggleable {background-color: white;}#sk-container-id-1 label.sk-toggleable__label {cursor: pointer;display: block;width: 100%;margin-bottom: 0;padding: 0.3em;box-sizing: border-box;text-align: center;}#sk-container-id-1 label.sk-toggleable__label-arrow:before {content: \"▸\";float: left;margin-right: 0.25em;color: #696969;}#sk-container-id-1 label.sk-toggleable__label-arrow:hover:before {color: black;}#sk-container-id-1 div.sk-estimator:hover label.sk-toggleable__label-arrow:before {color: black;}#sk-container-id-1 div.sk-toggleable__content {max-height: 0;max-width: 0;overflow: hidden;text-align: left;background-color: #f0f8ff;}#sk-container-id-1 div.sk-toggleable__content pre {margin: 0.2em;color: black;border-radius: 0.25em;background-color: #f0f8ff;}#sk-container-id-1 input.sk-toggleable__control:checked~div.sk-toggleable__content {max-height: 200px;max-width: 100%;overflow: auto;}#sk-container-id-1 input.sk-toggleable__control:checked~label.sk-toggleable__label-arrow:before {content: \"▾\";}#sk-container-id-1 div.sk-estimator input.sk-toggleable__control:checked~label.sk-toggleable__label {background-color: #d4ebff;}#sk-container-id-1 div.sk-label input.sk-toggleable__control:checked~label.sk-toggleable__label {background-color: #d4ebff;}#sk-container-id-1 input.sk-hidden--visually {border: 0;clip: rect(1px 1px 1px 1px);clip: rect(1px, 1px, 1px, 1px);height: 1px;margin: -1px;overflow: hidden;padding: 0;position: absolute;width: 1px;}#sk-container-id-1 div.sk-estimator {font-family: monospace;background-color: #f0f8ff;border: 1px dotted black;border-radius: 0.25em;box-sizing: border-box;margin-bottom: 0.5em;}#sk-container-id-1 div.sk-estimator:hover {background-color: #d4ebff;}#sk-container-id-1 div.sk-parallel-item::after {content: \"\";width: 100%;border-bottom: 1px solid gray;flex-grow: 1;}#sk-container-id-1 div.sk-label:hover label.sk-toggleable__label {background-color: #d4ebff;}#sk-container-id-1 div.sk-serial::before {content: \"\";position: absolute;border-left: 1px solid gray;box-sizing: border-box;top: 0;bottom: 0;left: 50%;z-index: 0;}#sk-container-id-1 div.sk-serial {display: flex;flex-direction: column;align-items: center;background-color: white;padding-right: 0.2em;padding-left: 0.2em;position: relative;}#sk-container-id-1 div.sk-item {position: relative;z-index: 1;}#sk-container-id-1 div.sk-parallel {display: flex;align-items: stretch;justify-content: center;background-color: white;position: relative;}#sk-container-id-1 div.sk-item::before, #sk-container-id-1 div.sk-parallel-item::before {content: \"\";position: absolute;border-left: 1px solid gray;box-sizing: border-box;top: 0;bottom: 0;left: 50%;z-index: -1;}#sk-container-id-1 div.sk-parallel-item {display: flex;flex-direction: column;z-index: 1;position: relative;background-color: white;}#sk-container-id-1 div.sk-parallel-item:first-child::after {align-self: flex-end;width: 50%;}#sk-container-id-1 div.sk-parallel-item:last-child::after {align-self: flex-start;width: 50%;}#sk-container-id-1 div.sk-parallel-item:only-child::after {width: 0;}#sk-container-id-1 div.sk-dashed-wrapped {border: 1px dashed gray;margin: 0 0.4em 0.5em 0.4em;box-sizing: border-box;padding-bottom: 0.4em;background-color: white;}#sk-container-id-1 div.sk-label label {font-family: monospace;font-weight: bold;display: inline-block;line-height: 1.2em;}#sk-container-id-1 div.sk-label-container {text-align: center;}#sk-container-id-1 div.sk-container {/* jupyter's `normalize.less` sets `[hidden] { display: none; }` but bootstrap.min.css set `[hidden] { display: none !important; }` so we also need the `!important` here to be able to override the default hidden behavior on the sphinx rendered scikit-learn.org. See: https://github.com/scikit-learn/scikit-learn/issues/21755 */display: inline-block !important;position: relative;}#sk-container-id-1 div.sk-text-repr-fallback {display: none;}</style><div id=\"sk-container-id-1\" class=\"sk-top-container\"><div class=\"sk-text-repr-fallback\"><pre>GridSearchCV(cv=5,\n",
       "             estimator=XGBClassifier(base_score=None, booster=None,\n",
       "                                     callbacks=None, colsample_bylevel=None,\n",
       "                                     colsample_bynode=None,\n",
       "                                     colsample_bytree=None,\n",
       "                                     early_stopping_rounds=None,\n",
       "                                     enable_categorical=False,\n",
       "                                     eval_metric=&#x27;logloss&#x27;, feature_types=None,\n",
       "                                     gamma=None, gpu_id=None,\n",
       "                                     grow_policy=&#x27;lossguide&#x27;,\n",
       "                                     importance_type=None,\n",
       "                                     interaction_constraints=None,\n",
       "                                     learnin...\n",
       "                         &#x27;gamma&#x27;: array([1.17192072, 4.70552199, 2.58820014, 2.88358419, 1.30020641]),\n",
       "                         &#x27;learning_rate&#x27;: array([0.52210089, 0.38479324, 0.99776003, 0.63356622, 0.23944292]),\n",
       "                         &#x27;max_depth&#x27;: array([ 8, 18,  6, 12,  5]),\n",
       "                         &#x27;min_child_weight&#x27;: array([7.4753607 , 1.58970548, 6.98039974, 6.79732554, 1.24845428]),\n",
       "                         &#x27;reg_alpha&#x27;: array([ 1, 18, 11,  4,  6]),\n",
       "                         &#x27;reg_lambda&#x27;: array([6.12961676, 3.79227623, 4.26484309, 4.98950827, 2.81202262])},\n",
       "             scoring=&#x27;average_precision&#x27;, verbose=1)</pre><b>In a Jupyter environment, please rerun this cell to show the HTML representation or trust the notebook. <br />On GitHub, the HTML representation is unable to render, please try loading this page with nbviewer.org.</b></div><div class=\"sk-container\" hidden><div class=\"sk-item sk-dashed-wrapped\"><div class=\"sk-label-container\"><div class=\"sk-label sk-toggleable\"><input class=\"sk-toggleable__control sk-hidden--visually\" id=\"sk-estimator-id-1\" type=\"checkbox\" ><label for=\"sk-estimator-id-1\" class=\"sk-toggleable__label sk-toggleable__label-arrow\">GridSearchCV</label><div class=\"sk-toggleable__content\"><pre>GridSearchCV(cv=5,\n",
       "             estimator=XGBClassifier(base_score=None, booster=None,\n",
       "                                     callbacks=None, colsample_bylevel=None,\n",
       "                                     colsample_bynode=None,\n",
       "                                     colsample_bytree=None,\n",
       "                                     early_stopping_rounds=None,\n",
       "                                     enable_categorical=False,\n",
       "                                     eval_metric=&#x27;logloss&#x27;, feature_types=None,\n",
       "                                     gamma=None, gpu_id=None,\n",
       "                                     grow_policy=&#x27;lossguide&#x27;,\n",
       "                                     importance_type=None,\n",
       "                                     interaction_constraints=None,\n",
       "                                     learnin...\n",
       "                         &#x27;gamma&#x27;: array([1.17192072, 4.70552199, 2.58820014, 2.88358419, 1.30020641]),\n",
       "                         &#x27;learning_rate&#x27;: array([0.52210089, 0.38479324, 0.99776003, 0.63356622, 0.23944292]),\n",
       "                         &#x27;max_depth&#x27;: array([ 8, 18,  6, 12,  5]),\n",
       "                         &#x27;min_child_weight&#x27;: array([7.4753607 , 1.58970548, 6.98039974, 6.79732554, 1.24845428]),\n",
       "                         &#x27;reg_alpha&#x27;: array([ 1, 18, 11,  4,  6]),\n",
       "                         &#x27;reg_lambda&#x27;: array([6.12961676, 3.79227623, 4.26484309, 4.98950827, 2.81202262])},\n",
       "             scoring=&#x27;average_precision&#x27;, verbose=1)</pre></div></div></div><div class=\"sk-parallel\"><div class=\"sk-parallel-item\"><div class=\"sk-item\"><div class=\"sk-label-container\"><div class=\"sk-label sk-toggleable\"><input class=\"sk-toggleable__control sk-hidden--visually\" id=\"sk-estimator-id-2\" type=\"checkbox\" ><label for=\"sk-estimator-id-2\" class=\"sk-toggleable__label sk-toggleable__label-arrow\">estimator: XGBClassifier</label><div class=\"sk-toggleable__content\"><pre>XGBClassifier(base_score=None, booster=None, callbacks=None,\n",
       "              colsample_bylevel=None, colsample_bynode=None,\n",
       "              colsample_bytree=None, early_stopping_rounds=None,\n",
       "              enable_categorical=False, eval_metric=&#x27;logloss&#x27;,\n",
       "              feature_types=None, gamma=None, gpu_id=None,\n",
       "              grow_policy=&#x27;lossguide&#x27;, importance_type=None,\n",
       "              interaction_constraints=None, learning_rate=None, max_bin=None,\n",
       "              max_cat_threshold=None, max_cat_to_onehot=None,\n",
       "              max_delta_step=None, max_depth=None, max_leaves=None,\n",
       "              min_child_weight=None, missing=nan, monotone_constraints=None,\n",
       "              n_estimators=100, n_jobs=None, num_parallel_tree=None,\n",
       "              predictor=None, random_state=7, ...)</pre></div></div></div><div class=\"sk-serial\"><div class=\"sk-item\"><div class=\"sk-estimator sk-toggleable\"><input class=\"sk-toggleable__control sk-hidden--visually\" id=\"sk-estimator-id-3\" type=\"checkbox\" ><label for=\"sk-estimator-id-3\" class=\"sk-toggleable__label sk-toggleable__label-arrow\">XGBClassifier</label><div class=\"sk-toggleable__content\"><pre>XGBClassifier(base_score=None, booster=None, callbacks=None,\n",
       "              colsample_bylevel=None, colsample_bynode=None,\n",
       "              colsample_bytree=None, early_stopping_rounds=None,\n",
       "              enable_categorical=False, eval_metric=&#x27;logloss&#x27;,\n",
       "              feature_types=None, gamma=None, gpu_id=None,\n",
       "              grow_policy=&#x27;lossguide&#x27;, importance_type=None,\n",
       "              interaction_constraints=None, learning_rate=None, max_bin=None,\n",
       "              max_cat_threshold=None, max_cat_to_onehot=None,\n",
       "              max_delta_step=None, max_depth=None, max_leaves=None,\n",
       "              min_child_weight=None, missing=nan, monotone_constraints=None,\n",
       "              n_estimators=100, n_jobs=None, num_parallel_tree=None,\n",
       "              predictor=None, random_state=7, ...)</pre></div></div></div></div></div></div></div></div></div></div>"
      ],
      "text/plain": [
       "GridSearchCV(cv=5,\n",
       "             estimator=XGBClassifier(base_score=None, booster=None,\n",
       "                                     callbacks=None, colsample_bylevel=None,\n",
       "                                     colsample_bynode=None,\n",
       "                                     colsample_bytree=None,\n",
       "                                     early_stopping_rounds=None,\n",
       "                                     enable_categorical=False,\n",
       "                                     eval_metric='logloss', feature_types=None,\n",
       "                                     gamma=None, gpu_id=None,\n",
       "                                     grow_policy='lossguide',\n",
       "                                     importance_type=None,\n",
       "                                     interaction_constraints=None,\n",
       "                                     learnin...\n",
       "                         'gamma': array([1.17192072, 4.70552199, 2.58820014, 2.88358419, 1.30020641]),\n",
       "                         'learning_rate': array([0.52210089, 0.38479324, 0.99776003, 0.63356622, 0.23944292]),\n",
       "                         'max_depth': array([ 8, 18,  6, 12,  5]),\n",
       "                         'min_child_weight': array([7.4753607 , 1.58970548, 6.98039974, 6.79732554, 1.24845428]),\n",
       "                         'reg_alpha': array([ 1, 18, 11,  4,  6]),\n",
       "                         'reg_lambda': array([6.12961676, 3.79227623, 4.26484309, 4.98950827, 2.81202262])},\n",
       "             scoring='average_precision', verbose=1)"
      ]
     },
     "execution_count": 3,
     "metadata": {},
     "output_type": "execute_result"
    }
   ],
   "source": [
    "parameters={'max_depth': np.random.choice(range(3,20), 5, replace=False),\n",
    "        'gamma': np.random.uniform(1,9,5),\n",
    "        'reg_alpha' : np.random.choice(range(1,20), 5, replace=False),\n",
    "        'reg_lambda' : np.random.uniform(1,9,5),\n",
    "        'colsample_bytree' : np.random.uniform(0,1,5),\n",
    "        'min_child_weight' : np.random.uniform(0,9,5),\n",
    "        'learning_rate': np.random.uniform(0,1,5)\n",
    "    }\n",
    "\n",
    "xgb_clf=XGBClassifier(eval_metric='logloss', \n",
    "                  objective = 'binary:logistic', \n",
    "                  grow_policy = 'lossguide', \n",
    "                  n_estimators = 100,\n",
    "                  random_state=seed)\n",
    "\n",
    "cv_clf = GridSearchCV(xgb_clf, parameters, scoring = 'average_precision', n_jobs = -1, cv = 5, refit = True, verbose=1)\n",
    "cv_clf.fit( X_train, y_train)"
   ]
  },
  {
   "cell_type": "code",
   "execution_count": 4,
   "id": "3e454bbc-3361-43f8-9f2d-772147fd65af",
   "metadata": {},
   "outputs": [
    {
     "data": {
      "text/plain": [
       "{'colsample_bytree': 0.33089436068186096,\n",
       " 'gamma': 4.705521992761145,\n",
       " 'learning_rate': 0.38479324017927363,\n",
       " 'max_depth': 5,\n",
       " 'min_child_weight': 1.5897054760755318,\n",
       " 'reg_alpha': 1,\n",
       " 'reg_lambda': 4.9895082663234405}"
      ]
     },
     "execution_count": 4,
     "metadata": {},
     "output_type": "execute_result"
    }
   ],
   "source": [
    "df_cv_result = pd.DataFrame(cv_clf.cv_results_)\n",
    "df_cv_result.loc[df_cv_result['mean_test_score'].idxmax()]['params']"
   ]
  },
  {
   "cell_type": "code",
   "execution_count": 5,
   "id": "7f3b256e-d417-4235-8af3-a4335ba8cbe3",
   "metadata": {},
   "outputs": [],
   "source": [
    "model = cv_clf.best_estimator_"
   ]
  },
  {
   "cell_type": "code",
   "execution_count": 6,
   "id": "88368d64-1959-4c5d-b259-0c88a959581c",
   "metadata": {},
   "outputs": [],
   "source": [
    "# make predictions for test data\n",
    "y_pred = model.predict_proba(X_test)\n"
   ]
  },
  {
   "cell_type": "code",
   "execution_count": 7,
   "id": "474ed1b0-15f3-4464-9841-0d6755e5c577",
   "metadata": {},
   "outputs": [
    {
     "name": "stdout",
     "output_type": "stream",
     "text": [
      "PR_AUC: 85.96%\n"
     ]
    }
   ],
   "source": [
    "# evaluate predictions\n",
    "pr_auc = average_precision_score(y_test, y_pred[:,1])\n",
    "print(\"PR_AUC: %.2f%%\" % (pr_auc * 100.0))"
   ]
  },
  {
   "cell_type": "markdown",
   "id": "e4cb5d85-e688-47b3-9b51-2b40a48b4823",
   "metadata": {},
   "source": [
    "The previous base model achieve PR_AUC of 82.27, with the parameter tuning, it increase to 82.96"
   ]
  },
  {
   "cell_type": "markdown",
   "id": "692ed14e-7ca8-4857-b031-39c70ff86ccd",
   "metadata": {},
   "source": [
    "# Save the model artifact"
   ]
  },
  {
   "cell_type": "code",
   "execution_count": 8,
   "id": "d22847ae-6e35-431b-bd52-6f04139d9414",
   "metadata": {},
   "outputs": [],
   "source": [
    "artifact_name = \"xgb_tuned_model.pkl\"\n",
    "\n",
    "# save\n",
    "pickle.dump(model, open(home  + '/Startup-Analysis/models/model_artifact/' + artifact_name, \"wb\"))"
   ]
  },
  {
   "cell_type": "markdown",
   "id": "fbefd848-1a8e-4be1-ac16-48a96445497e",
   "metadata": {},
   "source": [
    "# Save the feature list"
   ]
  },
  {
   "cell_type": "code",
   "execution_count": 9,
   "id": "37e74943-9800-4dd9-9e0b-369e8eba8184",
   "metadata": {},
   "outputs": [],
   "source": [
    "feat_file_name = 'feature.pkl'\n",
    "pickle.dump(feat, open(home  + '/Startup-Analysis/models/feat/' + feat_file_name, \"wb\"))"
   ]
  }
 ],
 "metadata": {
  "kernelspec": {
   "display_name": "startup",
   "language": "python",
   "name": "startup"
  },
  "language_info": {
   "codemirror_mode": {
    "name": "ipython",
    "version": 3
   },
   "file_extension": ".py",
   "mimetype": "text/x-python",
   "name": "python",
   "nbconvert_exporter": "python",
   "pygments_lexer": "ipython3",
   "version": "3.10.11"
  }
 },
 "nbformat": 4,
 "nbformat_minor": 5
}
