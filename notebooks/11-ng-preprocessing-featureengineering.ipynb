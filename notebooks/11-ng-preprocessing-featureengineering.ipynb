{
 "cells": [
  {
   "cell_type": "code",
   "execution_count": 1,
   "id": "6eced59a-16eb-4b9d-8c12-094d91a3d9a2",
   "metadata": {},
   "outputs": [],
   "source": [
    "# Data Process\n",
    "import pandas as pd\n",
    "import numpy as np \n",
    "\n",
    "# Data visulization\n",
    "import plotly.express as px\n",
    "import plotly\n",
    "import matplotlib.pyplot as plt\n",
    "\n",
    "# IO\n",
    "from pathlib import Path\n",
    "\n",
    "# Feature & Model\n",
    "from sklearn.preprocessing import OneHotEncoder\n",
    "from sklearn.linear_model import LinearRegression\n",
    "\n",
    "# custom function \n",
    "from src.data.data_preprocess import *\n",
    "plt.style.use('ggplot')\n",
    "pd.set_option('display.max_columns', 500)"
   ]
  },
  {
   "cell_type": "code",
   "execution_count": 2,
   "id": "e4d9b0be-fb73-47b7-a9d1-d318d4b675fe",
   "metadata": {},
   "outputs": [],
   "source": [
    "# read csv data file\n",
    "home = str(Path.home())\n",
    "data = pd.read_csv(home + '/Startup-Analysis/data/raw/startup_data.csv')\n",
    "\n",
    "# only include necessary columns \n",
    "col = [c for c in data.columns if c not in ['Unnamed: 0', 'Unnamed: 6', 'state_code.1', 'object_id']]\n",
    "data = data[col]"
   ]
  },
  {
   "cell_type": "markdown",
   "id": "f75f11f9-ddb5-46ab-8596-12499fdd1557",
   "metadata": {},
   "source": [
    "## Clean the age feature \n",
    "There are negative values in the age feature, which does not make sence, convert them to 0"
   ]
  },
  {
   "cell_type": "code",
   "execution_count": 3,
   "id": "2bfcec1d-5cea-4300-8126-d30e56ec992d",
   "metadata": {
    "tags": []
   },
   "outputs": [],
   "source": [
    "feat_need_clean = ['age_first_funding_year', \n",
    "                  'age_last_funding_year', \n",
    "                  'age_first_milestone_year', \n",
    "                  'age_last_milestone_year']\n",
    "for f in feat_need_clean:\n",
    "    data[f] = np.where(data[f] < 0, 0, data[f])"
   ]
  },
  {
   "cell_type": "markdown",
   "id": "e9961927-4fc7-4bb3-995e-403f9e744662",
   "metadata": {},
   "source": [
    "## Impute missing value \n",
    "The feature age_first_milestore_year & age_last_milestore_year have missing values, so we need to impute the missing values"
   ]
  },
  {
   "cell_type": "code",
   "execution_count": 4,
   "id": "f99db8f6-5eee-48eb-abd0-7b41e4d4c0bb",
   "metadata": {},
   "outputs": [
    {
     "data": {
      "text/html": [
       "<div>\n",
       "<style scoped>\n",
       "    .dataframe tbody tr th:only-of-type {\n",
       "        vertical-align: middle;\n",
       "    }\n",
       "\n",
       "    .dataframe tbody tr th {\n",
       "        vertical-align: top;\n",
       "    }\n",
       "\n",
       "    .dataframe thead th {\n",
       "        text-align: right;\n",
       "    }\n",
       "</style>\n",
       "<table border=\"1\" class=\"dataframe\">\n",
       "  <thead>\n",
       "    <tr style=\"text-align: right;\">\n",
       "      <th></th>\n",
       "      <th>age_first_funding_year</th>\n",
       "      <th>age_last_funding_year</th>\n",
       "      <th>age_first_milestone_year</th>\n",
       "      <th>age_last_milestone_year</th>\n",
       "    </tr>\n",
       "  </thead>\n",
       "  <tbody>\n",
       "    <tr>\n",
       "      <th>age_first_funding_year</th>\n",
       "      <td>1.000000</td>\n",
       "      <td>0.755921</td>\n",
       "      <td>0.612176</td>\n",
       "      <td>0.473392</td>\n",
       "    </tr>\n",
       "    <tr>\n",
       "      <th>age_last_funding_year</th>\n",
       "      <td>0.755921</td>\n",
       "      <td>1.000000</td>\n",
       "      <td>0.712054</td>\n",
       "      <td>0.642118</td>\n",
       "    </tr>\n",
       "    <tr>\n",
       "      <th>age_first_milestone_year</th>\n",
       "      <td>0.612176</td>\n",
       "      <td>0.712054</td>\n",
       "      <td>1.000000</td>\n",
       "      <td>0.787456</td>\n",
       "    </tr>\n",
       "    <tr>\n",
       "      <th>age_last_milestone_year</th>\n",
       "      <td>0.473392</td>\n",
       "      <td>0.642118</td>\n",
       "      <td>0.787456</td>\n",
       "      <td>1.000000</td>\n",
       "    </tr>\n",
       "  </tbody>\n",
       "</table>\n",
       "</div>"
      ],
      "text/plain": [
       "                          age_first_funding_year  age_last_funding_year  \\\n",
       "age_first_funding_year                  1.000000               0.755921   \n",
       "age_last_funding_year                   0.755921               1.000000   \n",
       "age_first_milestone_year                0.612176               0.712054   \n",
       "age_last_milestone_year                 0.473392               0.642118   \n",
       "\n",
       "                          age_first_milestone_year  age_last_milestone_year  \n",
       "age_first_funding_year                    0.612176                 0.473392  \n",
       "age_last_funding_year                     0.712054                 0.642118  \n",
       "age_first_milestone_year                  1.000000                 0.787456  \n",
       "age_last_milestone_year                   0.787456                 1.000000  "
      ]
     },
     "execution_count": 4,
     "metadata": {},
     "output_type": "execute_result"
    }
   ],
   "source": [
    "data[['age_first_funding_year', \n",
    "                  'age_last_funding_year', \n",
    "                  'age_first_milestone_year', \n",
    "                  'age_last_milestone_year']].corr(numeric_only = True)"
   ]
  },
  {
   "cell_type": "markdown",
   "id": "2731c01c-2284-432a-ae75-529f47fcd3bb",
   "metadata": {},
   "source": [
    "Both features are higly correlated with age_last_funding_year and it does not have missing value so we can simply fit a linear regression model on non-missing records and use that model to impute"
   ]
  },
  {
   "cell_type": "code",
   "execution_count": 5,
   "id": "214011d1-bd20-4458-96f3-89f3daad2618",
   "metadata": {},
   "outputs": [
    {
     "data": {
      "text/html": [
       "<style>#sk-container-id-1 {color: black;background-color: white;}#sk-container-id-1 pre{padding: 0;}#sk-container-id-1 div.sk-toggleable {background-color: white;}#sk-container-id-1 label.sk-toggleable__label {cursor: pointer;display: block;width: 100%;margin-bottom: 0;padding: 0.3em;box-sizing: border-box;text-align: center;}#sk-container-id-1 label.sk-toggleable__label-arrow:before {content: \"▸\";float: left;margin-right: 0.25em;color: #696969;}#sk-container-id-1 label.sk-toggleable__label-arrow:hover:before {color: black;}#sk-container-id-1 div.sk-estimator:hover label.sk-toggleable__label-arrow:before {color: black;}#sk-container-id-1 div.sk-toggleable__content {max-height: 0;max-width: 0;overflow: hidden;text-align: left;background-color: #f0f8ff;}#sk-container-id-1 div.sk-toggleable__content pre {margin: 0.2em;color: black;border-radius: 0.25em;background-color: #f0f8ff;}#sk-container-id-1 input.sk-toggleable__control:checked~div.sk-toggleable__content {max-height: 200px;max-width: 100%;overflow: auto;}#sk-container-id-1 input.sk-toggleable__control:checked~label.sk-toggleable__label-arrow:before {content: \"▾\";}#sk-container-id-1 div.sk-estimator input.sk-toggleable__control:checked~label.sk-toggleable__label {background-color: #d4ebff;}#sk-container-id-1 div.sk-label input.sk-toggleable__control:checked~label.sk-toggleable__label {background-color: #d4ebff;}#sk-container-id-1 input.sk-hidden--visually {border: 0;clip: rect(1px 1px 1px 1px);clip: rect(1px, 1px, 1px, 1px);height: 1px;margin: -1px;overflow: hidden;padding: 0;position: absolute;width: 1px;}#sk-container-id-1 div.sk-estimator {font-family: monospace;background-color: #f0f8ff;border: 1px dotted black;border-radius: 0.25em;box-sizing: border-box;margin-bottom: 0.5em;}#sk-container-id-1 div.sk-estimator:hover {background-color: #d4ebff;}#sk-container-id-1 div.sk-parallel-item::after {content: \"\";width: 100%;border-bottom: 1px solid gray;flex-grow: 1;}#sk-container-id-1 div.sk-label:hover label.sk-toggleable__label {background-color: #d4ebff;}#sk-container-id-1 div.sk-serial::before {content: \"\";position: absolute;border-left: 1px solid gray;box-sizing: border-box;top: 0;bottom: 0;left: 50%;z-index: 0;}#sk-container-id-1 div.sk-serial {display: flex;flex-direction: column;align-items: center;background-color: white;padding-right: 0.2em;padding-left: 0.2em;position: relative;}#sk-container-id-1 div.sk-item {position: relative;z-index: 1;}#sk-container-id-1 div.sk-parallel {display: flex;align-items: stretch;justify-content: center;background-color: white;position: relative;}#sk-container-id-1 div.sk-item::before, #sk-container-id-1 div.sk-parallel-item::before {content: \"\";position: absolute;border-left: 1px solid gray;box-sizing: border-box;top: 0;bottom: 0;left: 50%;z-index: -1;}#sk-container-id-1 div.sk-parallel-item {display: flex;flex-direction: column;z-index: 1;position: relative;background-color: white;}#sk-container-id-1 div.sk-parallel-item:first-child::after {align-self: flex-end;width: 50%;}#sk-container-id-1 div.sk-parallel-item:last-child::after {align-self: flex-start;width: 50%;}#sk-container-id-1 div.sk-parallel-item:only-child::after {width: 0;}#sk-container-id-1 div.sk-dashed-wrapped {border: 1px dashed gray;margin: 0 0.4em 0.5em 0.4em;box-sizing: border-box;padding-bottom: 0.4em;background-color: white;}#sk-container-id-1 div.sk-label label {font-family: monospace;font-weight: bold;display: inline-block;line-height: 1.2em;}#sk-container-id-1 div.sk-label-container {text-align: center;}#sk-container-id-1 div.sk-container {/* jupyter's `normalize.less` sets `[hidden] { display: none; }` but bootstrap.min.css set `[hidden] { display: none !important; }` so we also need the `!important` here to be able to override the default hidden behavior on the sphinx rendered scikit-learn.org. See: https://github.com/scikit-learn/scikit-learn/issues/21755 */display: inline-block !important;position: relative;}#sk-container-id-1 div.sk-text-repr-fallback {display: none;}</style><div id=\"sk-container-id-1\" class=\"sk-top-container\"><div class=\"sk-text-repr-fallback\"><pre>LinearRegression()</pre><b>In a Jupyter environment, please rerun this cell to show the HTML representation or trust the notebook. <br />On GitHub, the HTML representation is unable to render, please try loading this page with nbviewer.org.</b></div><div class=\"sk-container\" hidden><div class=\"sk-item\"><div class=\"sk-estimator sk-toggleable\"><input class=\"sk-toggleable__control sk-hidden--visually\" id=\"sk-estimator-id-1\" type=\"checkbox\" checked><label for=\"sk-estimator-id-1\" class=\"sk-toggleable__label sk-toggleable__label-arrow\">LinearRegression</label><div class=\"sk-toggleable__content\"><pre>LinearRegression()</pre></div></div></div></div></div>"
      ],
      "text/plain": [
       "LinearRegression()"
      ]
     },
     "execution_count": 5,
     "metadata": {},
     "output_type": "execute_result"
    }
   ],
   "source": [
    "data_subset = data[(data['age_first_milestone_year'].isna() == False) \n",
    "                   & (data['age_last_milestone_year'].isna() == False)][['age_last_funding_year', \n",
    "                  'age_first_milestone_year', \n",
    "                  'age_last_milestone_year']]\n",
    "\n",
    "lr1 = LinearRegression()\n",
    "lr1.fit(data_subset[['age_last_funding_year']], data_subset['age_first_milestone_year'])\n",
    "\n",
    "lr2 = LinearRegression()\n",
    "lr2.fit(data_subset[['age_last_funding_year']], data_subset['age_last_milestone_year'])"
   ]
  },
  {
   "cell_type": "code",
   "execution_count": 6,
   "id": "746bdd19-33cb-4cab-877a-63895bdaddc8",
   "metadata": {},
   "outputs": [],
   "source": [
    "data['age_first_milestone_year_impute'] = np.where(data['age_first_milestone_year'].isna(), \n",
    "                                                   lr1.intercept_ + data['age_last_funding_year'] * lr1.coef_[0], \n",
    "                                                   data['age_first_milestone_year'])\n",
    "\n",
    "data['age_last_milestone_year_impute'] = np.where(data['age_last_milestone_year'].isna(), \n",
    "                                                   lr2.intercept_ + data['age_last_funding_year'] * lr2.coef_[0], \n",
    "                                                   data['age_last_milestone_year'])"
   ]
  },
  {
   "cell_type": "code",
   "execution_count": 7,
   "id": "0a3a18b7-4678-41f2-adc5-d0749d6c7127",
   "metadata": {},
   "outputs": [
    {
     "data": {
      "image/png": "[encoded data removed]",
      "text/plain": [
       "<Figure size 640x480 with 1 Axes>"
      ]
     },
     "metadata": {},
     "output_type": "display_data"
    }
   ],
   "source": [
    "plt.hist([data['age_first_milestone_year'], data['age_first_milestone_year_impute']], \n",
    "            bins = 20, alpha=0.5, label=['age_first_milestone_year', 'age_first_milestone_year_impute'])\n",
    "plt.legend(loc='upper right')\n",
    "plt.show()"
   ]
  },
  {
   "cell_type": "code",
   "execution_count": 8,
   "id": "9ba78a0b-9912-4065-8817-76a116ed5fc7",
   "metadata": {},
   "outputs": [
    {
     "data": {
      "image/png": "[encoded data removed]",
      "text/plain": [
       "<Figure size 640x480 with 1 Axes>"
      ]
     },
     "metadata": {},
     "output_type": "display_data"
    }
   ],
   "source": [
    "plt.hist([data['age_last_milestone_year'], data['age_last_milestone_year_impute']], \n",
    "            bins = 20, alpha=0.5, label=['age_last_milestone_year', 'age_last_milestone_year_impute'])\n",
    "plt.legend(loc='upper right')\n",
    "plt.show()"
   ]
  },
  {
   "cell_type": "markdown",
   "id": "571030c1-09d7-4cac-9e89-8c6b0928b748",
   "metadata": {},
   "source": [
    "The overall distribution does not change"
   ]
  },
  {
   "cell_type": "markdown",
   "id": "41e947f2-6e8a-434b-8c62-91d4d30d01ac",
   "metadata": {},
   "source": [
    "## Pre-processing location data\n",
    "The location feature has state, city, lat & long, sometimes if we derive lat & long into decile, it could provide useful info"
   ]
  },
  {
   "cell_type": "code",
   "execution_count": 9,
   "id": "28e067b1-18e4-4b55-9dc8-b5c5cb828f1a",
   "metadata": {},
   "outputs": [],
   "source": [
    "data['latitude_decile'] = pd.qcut(data['latitude'], 10,\n",
    "                            labels = False)\n",
    "data['longitude_decile'] = pd.qcut(data['longitude'], 10,\n",
    "                            labels = False)"
   ]
  },
  {
   "cell_type": "code",
   "execution_count": 10,
   "id": "dafeaf8d-e304-4857-b746-4d5bcf665861",
   "metadata": {},
   "outputs": [],
   "source": [
    "feat = ['age_first_funding_year', 'age_last_funding_year', 'age_first_milestone_year_impute', 'age_last_milestone_year_impute', 'relationships', \n",
    "       'funding_rounds', 'funding_total_usd', 'milestones', 'is_CA', 'is_NY', 'is_MA', 'is_TX', 'is_otherstate', \n",
    "       'is_web', 'is_mobile', 'is_enterprise', 'is_advertising', 'is_gamesvideo', 'is_ecommerce', 'is_biotech', 'is_consulting',\n",
    "       'is_othercategory', 'has_VC', 'has_angel', 'has_roundA', 'has_roundB', 'has_roundC',\n",
    "       'has_roundD', 'avg_participants', 'is_top500', 'latitude_decile', 'longitude_decile']\n",
    "label = ['labels']\n",
    "data[feat + label].to_csv(home + '/Startup-Analysis/data/processed/startup_data_cleaned.csv', index = False)"
   ]
  },
  {
   "cell_type": "code",
   "execution_count": null,
   "id": "2e2445d5-bb7e-4c4b-8542-8459d2f20898",
   "metadata": {},
   "outputs": [],
   "source": []
  },
  {
   "cell_type": "code",
   "execution_count": null,
   "id": "944dfa2c-c8b9-4e33-9f34-fddd33f1f524",
   "metadata": {},
   "outputs": [],
   "source": []
  },
  {
   "cell_type": "code",
   "execution_count": null,
   "id": "b9fe5821-bc15-435a-ac50-a60b86196829",
   "metadata": {},
   "outputs": [],
   "source": []
  },
  {
   "cell_type": "code",
   "execution_count": null,
   "id": "0680590e-c35a-4f87-b904-17a1aaf56cc7",
   "metadata": {},
   "outputs": [],
   "source": []
  },
  {
   "cell_type": "code",
   "execution_count": null,
   "id": "2c735326-e182-4a76-ad01-38dc515f212f",
   "metadata": {},
   "outputs": [],
   "source": []
  }
 ],
 "metadata": {
  "kernelspec": {
   "display_name": "startup",
   "language": "python",
   "name": "startup"
  },
  "language_info": {
   "codemirror_mode": {
    "name": "ipython",
    "version": 3
   },
   "file_extension": ".py",
   "mimetype": "text/x-python",
   "name": "python",
   "nbconvert_exporter": "python",
   "pygments_lexer": "ipython3",
   "version": "3.10.11"
  }
 },
 "nbformat": 4,
 "nbformat_minor": 5
}
